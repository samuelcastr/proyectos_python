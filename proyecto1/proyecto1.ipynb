{
 "cells": [
  {
   "cell_type": "markdown",
   "id": "86401ffa",
   "metadata": {},
   "source": [
    "***codigo de muestra***"
   ]
  },
  {
   "cell_type": "code",
   "execution_count": 3,
   "id": "d279f0f4",
   "metadata": {},
   "outputs": [
    {
     "name": "stdout",
     "output_type": "stream",
     "text": [
      "La suma de los primeros 10 números naturales es: 55\n"
     ]
    }
   ],
   "source": [
    "# Algoritmo: Cálculo de la suma de los primeros N números naturales\n",
    "\n",
    "# Definir la función\n",
    "def suma_numeros(n):\n",
    "    suma = 0\n",
    "    for i in range(1, n + 1):\n",
    "        suma += i\n",
    "    return suma\n",
    "\n",
    "# Probar la función\n",
    "N = 10\n",
    "resultado = suma_numeros(N)\n",
    "print(f\"La suma de los primeros {N} números naturales es: {resultado}\")\n"
   ]
  }
 ],
 "metadata": {
  "kernelspec": {
   "display_name": "v_proyecto1",
   "language": "python",
   "name": "python3"
  },
  "language_info": {
   "codemirror_mode": {
    "name": "ipython",
    "version": 3
   },
   "file_extension": ".py",
   "mimetype": "text/x-python",
   "name": "python",
   "nbconvert_exporter": "python",
   "pygments_lexer": "ipython3",
   "version": "3.12.7"
  }
 },
 "nbformat": 4,
 "nbformat_minor": 5
}
